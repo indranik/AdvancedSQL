{
 "cells": [
  {
   "cell_type": "code",
   "execution_count": 1,
   "metadata": {
    "collapsed": true
   },
   "outputs": [],
   "source": [
    "# Dependencies\n",
    "import numpy as np\n",
    "import pandas as pd\n",
    "import seaborn as sns\n",
    "import matplotlib.pyplot as plt\n",
    "\n",
    "import csv\n",
    "import os\n",
    "\n",
    "# Imports the method used for connecting to DBs\n",
    "from sqlalchemy import create_engine, MetaData\n",
    "\n",
    "# Imports the methods needed to abstract classes into tables\n",
    "from sqlalchemy.ext.declarative import declarative_base\n",
    "\n",
    "# Allow us to declare column types\n",
    "from sqlalchemy import Column, Integer, String, Float\n"
   ]
  },
  {
   "cell_type": "code",
   "execution_count": 2,
   "metadata": {},
   "outputs": [
    {
     "data": {
      "text/html": [
       "<div>\n",
       "<style>\n",
       "    .dataframe thead tr:only-child th {\n",
       "        text-align: right;\n",
       "    }\n",
       "\n",
       "    .dataframe thead th {\n",
       "        text-align: left;\n",
       "    }\n",
       "\n",
       "    .dataframe tbody tr th {\n",
       "        vertical-align: top;\n",
       "    }\n",
       "</style>\n",
       "<table border=\"1\" class=\"dataframe\">\n",
       "  <thead>\n",
       "    <tr style=\"text-align: right;\">\n",
       "      <th></th>\n",
       "      <th>station</th>\n",
       "      <th>date</th>\n",
       "      <th>prcp</th>\n",
       "      <th>tobs</th>\n",
       "    </tr>\n",
       "  </thead>\n",
       "  <tbody>\n",
       "    <tr>\n",
       "      <th>0</th>\n",
       "      <td>USC00519397</td>\n",
       "      <td>2010-01-01</td>\n",
       "      <td>0.08</td>\n",
       "      <td>65</td>\n",
       "    </tr>\n",
       "    <tr>\n",
       "      <th>1</th>\n",
       "      <td>USC00519397</td>\n",
       "      <td>2010-01-02</td>\n",
       "      <td>0.00</td>\n",
       "      <td>63</td>\n",
       "    </tr>\n",
       "    <tr>\n",
       "      <th>2</th>\n",
       "      <td>USC00519397</td>\n",
       "      <td>2010-01-03</td>\n",
       "      <td>0.00</td>\n",
       "      <td>74</td>\n",
       "    </tr>\n",
       "    <tr>\n",
       "      <th>3</th>\n",
       "      <td>USC00519397</td>\n",
       "      <td>2010-01-04</td>\n",
       "      <td>0.00</td>\n",
       "      <td>76</td>\n",
       "    </tr>\n",
       "    <tr>\n",
       "      <th>4</th>\n",
       "      <td>USC00519397</td>\n",
       "      <td>2010-01-06</td>\n",
       "      <td>NaN</td>\n",
       "      <td>73</td>\n",
       "    </tr>\n",
       "  </tbody>\n",
       "</table>\n",
       "</div>"
      ],
      "text/plain": [
       "       station        date  prcp  tobs\n",
       "0  USC00519397  2010-01-01  0.08    65\n",
       "1  USC00519397  2010-01-02  0.00    63\n",
       "2  USC00519397  2010-01-03  0.00    74\n",
       "3  USC00519397  2010-01-04  0.00    76\n",
       "4  USC00519397  2010-01-06   NaN    73"
      ]
     },
     "execution_count": 2,
     "metadata": {},
     "output_type": "execute_result"
    }
   ],
   "source": [
    "# Read CSVs\n",
    "stationDf = pd.read_csv(\"hawaii_stations.csv\")\n",
    "measurementsDf = pd.read_csv(\"hawaii_measurements.csv\")\n",
    "measurementsDf.head()"
   ]
  },
  {
   "cell_type": "code",
   "execution_count": 3,
   "metadata": {
    "collapsed": true
   },
   "outputs": [],
   "source": [
    "measurementsCleanDf = measurementsDf.dropna()\n",
    "measurementsCleanDf = measurementsCleanDf.reset_index()\n",
    "\n",
    "stationDf.to_csv(\"clean_hawaii_stations.csv\",index = False)\n",
    "measurementsCleanDf.to_csv(\"clean_hawaii_measurements.csv\", index = False)\n"
   ]
  },
  {
   "cell_type": "code",
   "execution_count": 4,
   "metadata": {
    "collapsed": true
   },
   "outputs": [],
   "source": [
    "# Database creation\n",
    "import sqlalchemy\n",
    "# Imports the method used for connecting to DBs\n",
    "from sqlalchemy import create_engine\n",
    "\n",
    "# Imports the methods needed to abstract classes into tables\n",
    "from sqlalchemy.ext.declarative import declarative_base\n",
    "\n",
    "# Allow us to declare column types\n",
    "from sqlalchemy import Column, Integer, String, Float, Text"
   ]
  },
  {
   "cell_type": "code",
   "execution_count": 5,
   "metadata": {
    "collapsed": true
   },
   "outputs": [],
   "source": [
    "# Sets an object to utilize the default declarative base in SQL Alchemy\n",
    "Base = declarative_base()"
   ]
  },
  {
   "cell_type": "code",
   "execution_count": 6,
   "metadata": {
    "collapsed": true
   },
   "outputs": [],
   "source": [
    "# Create an engine to a SQLite database file called `hawaii.sqlite`\n",
    "engine = create_engine(\"sqlite:///hawaii.sqlite\")"
   ]
  },
  {
   "cell_type": "code",
   "execution_count": 7,
   "metadata": {
    "collapsed": true
   },
   "outputs": [],
   "source": [
    "# Create a connection to the engine called `conn`\n",
    "conn = engine.connect()"
   ]
  },
  {
   "cell_type": "code",
   "execution_count": 8,
   "metadata": {
    "collapsed": true
   },
   "outputs": [],
   "source": [
    "# Creating two classes - Station and Meausrement\n",
    "class Station (Base):\n",
    "    __tablename__ = 'Station'\n",
    "\n",
    "    id = Column(Integer, primary_key=True)\n",
    "    station = Column(String)\n",
    "    name = Column(String)\n",
    "    latitude = Column(Float)\n",
    "    longitude = Column(Float)\n",
    "    elevation = Column(Float)\n",
    "    \n",
    "    def __repr__(self):\n",
    "        return f\"id={self.id}, name={self.name}\"\n",
    "    \n",
    "class Measurement (Base):\n",
    "    __tablename__ = 'Measurement'\n",
    "\n",
    "    id = Column(Integer, primary_key=True)\n",
    "    station = Column(String)\n",
    "    date = Column(String)\n",
    "    prcp = Column(Float)\n",
    "    tobs = Column(Float)\n",
    "   \n",
    "    \n",
    "    def __repr__(self):\n",
    "        return f\"id={self.id}, name={self.name}\""
   ]
  },
  {
   "cell_type": "code",
   "execution_count": 9,
   "metadata": {
    "collapsed": true
   },
   "outputs": [],
   "source": [
    "# Use `create_all` to create the above tables in the database\n",
    "Base.metadata.create_all(engine)"
   ]
  },
  {
   "cell_type": "code",
   "execution_count": 10,
   "metadata": {},
   "outputs": [
    {
     "name": "stdout",
     "output_type": "stream",
     "text": [
      "[{'index': 0, 'station': 'USC00519397', 'date': '2010-01-01', 'prcp': 0.08, 'tobs': 65}, {'index': 1, 'station': 'USC00519397', 'date': '2010-01-02', 'prcp': 0.0, 'tobs': 63}, {'index': 2, 'station': 'USC00519397', 'date': '2010-01-03', 'prcp': 0.0, 'tobs': 74}, {'index': 3, 'station': 'USC00519397', 'date': '2010-01-04', 'prcp': 0.0, 'tobs': 76}, {'index': 5, 'station': 'USC00519397', 'date': '2010-01-07', 'prcp': 0.06, 'tobs': 70}, {'index': 6, 'station': 'USC00519397', 'date': '2010-01-08', 'prcp': 0.0, 'tobs': 64}, {'index': 7, 'station': 'USC00519397', 'date': '2010-01-09', 'prcp': 0.0, 'tobs': 68}, {'index': 8, 'station': 'USC00519397', 'date': '2010-01-10', 'prcp': 0.0, 'tobs': 73}, {'index': 9, 'station': 'USC00519397', 'date': '2010-01-11', 'prcp': 0.01, 'tobs': 64}, {'index': 10, 'station': 'USC00519397', 'date': '2010-01-12', 'prcp': 0.0, 'tobs': 61}, {'index': 11, 'station': 'USC00519397', 'date': '2010-01-14', 'prcp': 0.0, 'tobs': 66}, {'index': 12, 'station': 'USC00519397', 'date': '2010-01-15', 'prcp': 0.0, 'tobs': 65}, {'index': 13, 'station': 'USC00519397', 'date': '2010-01-16', 'prcp': 0.0, 'tobs': 68}, {'index': 14, 'station': 'USC00519397', 'date': '2010-01-17', 'prcp': 0.0, 'tobs': 64}, {'index': 15, 'station': 'USC00519397', 'date': '2010-01-18', 'prcp': 0.0, 'tobs': 72}, {'index': 16, 'station': 'USC00519397', 'date': '2010-01-19', 'prcp': 0.0, 'tobs': 66}, {'index': 17, 'station': 'USC00519397', 'date': '2010-01-20', 'prcp': 0.0, 'tobs': 66}, {'index': 18, 'station': 'USC00519397', 'date': '2010-01-21', 'prcp': 0.0, 'tobs': 69}, {'index': 19, 'station': 'USC00519397', 'date': '2010-01-22', 'prcp': 0.0, 'tobs': 67}, {'index': 20, 'station': 'USC00519397', 'date': '2010-01-23', 'prcp': 0.0, 'tobs': 67}, {'index': 21, 'station': 'USC00519397', 'date': '2010-01-24', 'prcp': 0.01, 'tobs': 71}, {'index': 22, 'station': 'USC00519397', 'date': '2010-01-25', 'prcp': 0.0, 'tobs': 67}, {'index': 23, 'station': 'USC00519397', 'date': '2010-01-26', 'prcp': 0.04, 'tobs': 76}, {'index': 24, 'station': 'USC00519397', 'date': '2010-01-27', 'prcp': 0.12, 'tobs': 68}, {'index': 25, 'station': 'USC00519397', 'date': '2010-01-28', 'prcp': 0.0, 'tobs': 72}, {'index': 27, 'station': 'USC00519397', 'date': '2010-01-31', 'prcp': 0.03, 'tobs': 67}, {'index': 28, 'station': 'USC00519397', 'date': '2010-02-01', 'prcp': 0.01, 'tobs': 66}, {'index': 30, 'station': 'USC00519397', 'date': '2010-02-04', 'prcp': 0.01, 'tobs': 69}, {'index': 31, 'station': 'USC00519397', 'date': '2010-02-05', 'prcp': 0.0, 'tobs': 67}, {'index': 32, 'station': 'USC00519397', 'date': '2010-02-06', 'prcp': 0.0, 'tobs': 67}, {'index': 33, 'station': 'USC00519397', 'date': '2010-02-07', 'prcp': 0.0, 'tobs': 64}, {'index': 34, 'station': 'USC00519397', 'date': '2010-02-08', 'prcp': 0.0, 'tobs': 69}, {'index': 35, 'station': 'USC00519397', 'date': '2010-02-09', 'prcp': 0.0, 'tobs': 73}, {'index': 36, 'station': 'USC00519397', 'date': '2010-02-11', 'prcp': 0.0, 'tobs': 73}, {'index': 37, 'station': 'USC00519397', 'date': '2010-02-12', 'prcp': 0.02, 'tobs': 69}, {'index': 38, 'station': 'USC00519397', 'date': '2010-02-13', 'prcp': 0.01, 'tobs': 69}, {'index': 39, 'station': 'USC00519397', 'date': '2010-02-14', 'prcp': 0.0, 'tobs': 69}, {'index': 40, 'station': 'USC00519397', 'date': '2010-02-15', 'prcp': 0.0, 'tobs': 71}, {'index': 41, 'station': 'USC00519397', 'date': '2010-02-16', 'prcp': 0.0, 'tobs': 61}, {'index': 42, 'station': 'USC00519397', 'date': '2010-02-17', 'prcp': 0.0, 'tobs': 69}, {'index': 44, 'station': 'USC00519397', 'date': '2010-02-20', 'prcp': 0.03, 'tobs': 64}, {'index': 45, 'station': 'USC00519397', 'date': '2010-02-21', 'prcp': 0.0, 'tobs': 65}, {'index': 46, 'station': 'USC00519397', 'date': '2010-02-22', 'prcp': 0.0, 'tobs': 67}, {'index': 47, 'station': 'USC00519397', 'date': '2010-02-23', 'prcp': 0.0, 'tobs': 68}, {'index': 48, 'station': 'USC00519397', 'date': '2010-02-24', 'prcp': 0.0, 'tobs': 65}, {'index': 49, 'station': 'USC00519397', 'date': '2010-02-25', 'prcp': 0.0, 'tobs': 76}, {'index': 50, 'station': 'USC00519397', 'date': '2010-02-26', 'prcp': 0.0, 'tobs': 75}, {'index': 51, 'station': 'USC00519397', 'date': '2010-02-28', 'prcp': 0.0, 'tobs': 66}, {'index': 52, 'station': 'USC00519397', 'date': '2010-03-01', 'prcp': 0.01, 'tobs': 70}, {'index': 53, 'station': 'USC00519397', 'date': '2010-03-02', 'prcp': 0.0, 'tobs': 72}]\n"
     ]
    }
   ],
   "source": [
    "# loading cleaned CSVs into dataframes\n",
    "cleanStationDf = pd.read_csv(\"clean_hawaii_stations.csv\")\n",
    "stationData = cleanStationDf.to_dict(orient='records')\n",
    "\n",
    "cleanMeasurementDf =pd.read_csv(\"clean_hawaii_measurements.csv\")\n",
    "measurementData = cleanMeasurementDf.to_dict(orient='records')\n"
   ]
  },
  {
   "cell_type": "code",
   "execution_count": 11,
   "metadata": {
    "collapsed": true
   },
   "outputs": [],
   "source": [
    "# Use MetaData from SQLAlchemy to reflect the tables\n",
    "metadata = MetaData(bind=engine)\n",
    "metadata.reflect()"
   ]
  },
  {
   "cell_type": "code",
   "execution_count": 12,
   "metadata": {
    "collapsed": true
   },
   "outputs": [],
   "source": [
    "# Save the reference to the station and measurement tables\n",
    "stationTable = sqlalchemy.Table('Station', metadata, autoload=True)\n",
    "measurementTable = sqlalchemy.Table('Measurement', metadata, autoload=True)\n"
   ]
  },
  {
   "cell_type": "code",
   "execution_count": 13,
   "metadata": {},
   "outputs": [
    {
     "data": {
      "text/plain": [
       "<sqlalchemy.engine.result.ResultProxy at 0xf73d12e978>"
      ]
     },
     "execution_count": 13,
     "metadata": {},
     "output_type": "execute_result"
    }
   ],
   "source": [
    "# Insert the tables. Before you do that delete any pre-exsiting tables\n",
    "conn.execute(stationTable.delete())\n",
    "conn.execute(measurementTable.delete())\n",
    "\n",
    "conn.execute(stationTable.insert(), stationData)\n",
    "conn.execute(measurementTable.insert(), measurementData)"
   ]
  },
  {
   "cell_type": "code",
   "execution_count": 14,
   "metadata": {},
   "outputs": [
    {
     "data": {
      "text/plain": [
       "[(1, 'USC00519397', 'WAIKIKI 717.2, HI US', 21.2716, -157.8168, 3.0),\n",
       " (2, 'USC00513117', 'KANEOHE 838.1, HI US', 21.4234, -157.8015, 14.6),\n",
       " (3, 'USC00514830', 'KUALOA RANCH HEADQUARTERS 886.9, HI US', 21.5213, -157.8374, 7.0),\n",
       " (4, 'USC00517948', 'PEARL CITY, HI US', 21.3934, -157.9751, 11.9),\n",
       " (5, 'USC00518838', 'UPPER WAHIAWA 874.3, HI US', 21.4992, -158.0111, 306.6)]"
      ]
     },
     "execution_count": 14,
     "metadata": {},
     "output_type": "execute_result"
    }
   ],
   "source": [
    "#Testing to make sure that the data transfer is done - Station\n",
    "conn.execute(\"select * from Station limit 5\").fetchall()"
   ]
  },
  {
   "cell_type": "code",
   "execution_count": 16,
   "metadata": {},
   "outputs": [
    {
     "data": {
      "text/plain": [
       "[(1, 'USC00519397', '2010-01-01', 0.08, 65.0),\n",
       " (2, 'USC00519397', '2010-01-02', 0.0, 63.0),\n",
       " (3, 'USC00519397', '2010-01-03', 0.0, 74.0),\n",
       " (4, 'USC00519397', '2010-01-04', 0.0, 76.0),\n",
       " (5, 'USC00519397', '2010-01-07', 0.06, 70.0),\n",
       " (6, 'USC00519397', '2010-01-08', 0.0, 64.0),\n",
       " (7, 'USC00519397', '2010-01-09', 0.0, 68.0),\n",
       " (8, 'USC00519397', '2010-01-10', 0.0, 73.0),\n",
       " (9, 'USC00519397', '2010-01-11', 0.01, 64.0),\n",
       " (10, 'USC00519397', '2010-01-12', 0.0, 61.0),\n",
       " (11, 'USC00519397', '2010-01-14', 0.0, 66.0),\n",
       " (12, 'USC00519397', '2010-01-15', 0.0, 65.0),\n",
       " (13, 'USC00519397', '2010-01-16', 0.0, 68.0),\n",
       " (14, 'USC00519397', '2010-01-17', 0.0, 64.0),\n",
       " (15, 'USC00519397', '2010-01-18', 0.0, 72.0),\n",
       " (16, 'USC00519397', '2010-01-19', 0.0, 66.0),\n",
       " (17, 'USC00519397', '2010-01-20', 0.0, 66.0),\n",
       " (18, 'USC00519397', '2010-01-21', 0.0, 69.0),\n",
       " (19, 'USC00519397', '2010-01-22', 0.0, 67.0),\n",
       " (20, 'USC00519397', '2010-01-23', 0.0, 67.0),\n",
       " (21, 'USC00519397', '2010-01-24', 0.01, 71.0),\n",
       " (22, 'USC00519397', '2010-01-25', 0.0, 67.0),\n",
       " (23, 'USC00519397', '2010-01-26', 0.04, 76.0),\n",
       " (24, 'USC00519397', '2010-01-27', 0.12, 68.0),\n",
       " (25, 'USC00519397', '2010-01-28', 0.0, 72.0),\n",
       " (26, 'USC00519397', '2010-01-31', 0.03, 67.0),\n",
       " (27, 'USC00519397', '2010-02-01', 0.01, 66.0),\n",
       " (28, 'USC00519397', '2010-02-04', 0.01, 69.0),\n",
       " (29, 'USC00519397', '2010-02-05', 0.0, 67.0),\n",
       " (30, 'USC00519397', '2010-02-06', 0.0, 67.0),\n",
       " (31, 'USC00519397', '2010-02-07', 0.0, 64.0),\n",
       " (32, 'USC00519397', '2010-02-08', 0.0, 69.0),\n",
       " (33, 'USC00519397', '2010-02-09', 0.0, 73.0),\n",
       " (34, 'USC00519397', '2010-02-11', 0.0, 73.0),\n",
       " (35, 'USC00519397', '2010-02-12', 0.02, 69.0),\n",
       " (36, 'USC00519397', '2010-02-13', 0.01, 69.0),\n",
       " (37, 'USC00519397', '2010-02-14', 0.0, 69.0),\n",
       " (38, 'USC00519397', '2010-02-15', 0.0, 71.0),\n",
       " (39, 'USC00519397', '2010-02-16', 0.0, 61.0),\n",
       " (40, 'USC00519397', '2010-02-17', 0.0, 69.0),\n",
       " (41, 'USC00519397', '2010-02-20', 0.03, 64.0),\n",
       " (42, 'USC00519397', '2010-02-21', 0.0, 65.0),\n",
       " (43, 'USC00519397', '2010-02-22', 0.0, 67.0),\n",
       " (44, 'USC00519397', '2010-02-23', 0.0, 68.0),\n",
       " (45, 'USC00519397', '2010-02-24', 0.0, 65.0),\n",
       " (46, 'USC00519397', '2010-02-25', 0.0, 76.0),\n",
       " (47, 'USC00519397', '2010-02-26', 0.0, 75.0),\n",
       " (48, 'USC00519397', '2010-02-28', 0.0, 66.0),\n",
       " (49, 'USC00519397', '2010-03-01', 0.01, 70.0),\n",
       " (50, 'USC00519397', '2010-03-02', 0.0, 72.0)]"
      ]
     },
     "execution_count": 16,
     "metadata": {},
     "output_type": "execute_result"
    }
   ],
   "source": [
    "#Testing to make sure that the data transfer is done - Station\n",
    "conn.execute(\"select * from Measurement limit 50\").fetchall()"
   ]
  },
  {
   "cell_type": "code",
   "execution_count": null,
   "metadata": {
    "collapsed": true
   },
   "outputs": [],
   "source": []
  }
 ],
 "metadata": {
  "kernelspec": {
   "display_name": "Python [conda env:PythonData_3]",
   "language": "python",
   "name": "conda-env-PythonData_3-py"
  },
  "language_info": {
   "codemirror_mode": {
    "name": "ipython",
    "version": 3
   },
   "file_extension": ".py",
   "mimetype": "text/x-python",
   "name": "python",
   "nbconvert_exporter": "python",
   "pygments_lexer": "ipython3",
   "version": "3.6.3"
  }
 },
 "nbformat": 4,
 "nbformat_minor": 2
}
